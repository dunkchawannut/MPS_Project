{
 "cells": [
  {
   "cell_type": "code",
   "execution_count": 88,
   "metadata": {
    "collapsed": true
   },
   "outputs": [],
   "source": [
    "import pandas as pd\n"
   ]
  },
  {
   "cell_type": "code",
   "execution_count": 111,
   "metadata": {
    "collapsed": true
   },
   "outputs": [],
   "source": [
    "#Load score\n",
    "news = pd.read_csv('final.csv' , encoding='latin-1')\n"
   ]
  },
  {
   "cell_type": "code",
   "execution_count": 112,
   "metadata": {
    "collapsed": true
   },
   "outputs": [],
   "source": [
    "#Drop column\n",
    "news = news.drop('Unnamed: 0', axis=1)\n"
   ]
  },
  {
   "cell_type": "code",
   "execution_count": 113,
   "metadata": {
    "collapsed": true
   },
   "outputs": [],
   "source": [
    "news['final_date'] = pd.to_datetime(news['final_date'])\n",
    "news['week'] = news['final_date'].dt.week\n",
    "news['year'] = news['final_date'].dt.year\n"
   ]
  },
  {
   "cell_type": "code",
   "execution_count": 114,
   "metadata": {},
   "outputs": [
    {
     "data": {
      "text/plain": [
       "2014    70500\n",
       "2012    63034\n",
       "2013    62500\n",
       "2015    34483\n",
       "2016    31517\n",
       "2017    21798\n",
       "1990        1\n",
       "Name: year, dtype: int64"
      ]
     },
     "execution_count": 114,
     "metadata": {},
     "output_type": "execute_result"
    }
   ],
   "source": [
    "news.year.value_counts()"
   ]
  },
  {
   "cell_type": "code",
   "execution_count": 117,
   "metadata": {
    "collapsed": true
   },
   "outputs": [],
   "source": [
    "#Need as.index = FALSE in order to get the grouped column as a column not an index\n",
    "#Aggregate to daily level by summing across all sentiment count and score\n",
    "news2 =   news.groupby(['year','week'] , as_index = False ).agg({'score': 'sum' , \n",
    "                                                'Harvard_IV_final': 'sum' ,\n",
    "                                                'Negative_final': 'sum'  ,\n",
    "                                                'Positive_final': 'sum' ,\n",
    "                                                'Uncertainty_final': 'sum' ,\n",
    "                                                'Litigious_final' : 'sum' ,\n",
    "                                                'Constraining_final' : 'sum' ,\n",
    "                                                'Superfluous_final' : 'sum' , \n",
    "                                                'Interesting_final' : 'sum' ,\n",
    "                                                 'Modal_final': 'sum' , \n",
    "                                                'Irr_Verb_final': 'sum' ,\n",
    "                                                'Harvard_IV_final': 'sum'\n",
    "                               } \n",
    "                              )\n",
    "\n",
    "#Drop this column ... need to fix later when cleaning the file\n",
    "#news2 = news2.drop('Constraining_final', axis=1)\n",
    "news2=news2.iloc[1:,:]\n"
   ]
  },
  {
   "cell_type": "code",
   "execution_count": 141,
   "metadata": {
    "collapsed": true
   },
   "outputs": [],
   "source": [
    "from sklearn.preprocessing import StandardScaler\n",
    "scaler = StandardScaler()\n",
    "scaler.fit(news2)\n",
    "std=pd.DataFrame(scaler.transform(news2)).iloc[:,2:]\n",
    "#pd.concat([std,news2.iloc[:,2:]],axis=1)\n",
    "time=news2.iloc[:,:2]\n",
    "std.reset_index()\n",
    "time.index=range(len(time))\n",
    "stddata=pd.concat([time,std],axis=1)\n",
    "stddata.columns=news2.columns"
   ]
  },
  {
   "cell_type": "code",
   "execution_count": 142,
   "metadata": {},
   "outputs": [
    {
     "data": {
      "text/html": [
       "<div>\n",
       "<style>\n",
       "    .dataframe thead tr:only-child th {\n",
       "        text-align: right;\n",
       "    }\n",
       "\n",
       "    .dataframe thead th {\n",
       "        text-align: left;\n",
       "    }\n",
       "\n",
       "    .dataframe tbody tr th {\n",
       "        vertical-align: top;\n",
       "    }\n",
       "</style>\n",
       "<table border=\"1\" class=\"dataframe\">\n",
       "  <thead>\n",
       "    <tr style=\"text-align: right;\">\n",
       "      <th></th>\n",
       "      <th>year</th>\n",
       "      <th>week</th>\n",
       "      <th>Uncertainty_final</th>\n",
       "      <th>Litigious_final</th>\n",
       "      <th>Modal_final</th>\n",
       "      <th>Interesting_final</th>\n",
       "      <th>Superfluous_final</th>\n",
       "      <th>Negative_final</th>\n",
       "      <th>Positive_final</th>\n",
       "      <th>Irr_Verb_final</th>\n",
       "      <th>Constraining_final</th>\n",
       "      <th>score</th>\n",
       "      <th>Harvard_IV_final</th>\n",
       "    </tr>\n",
       "  </thead>\n",
       "  <tbody>\n",
       "    <tr>\n",
       "      <th>0</th>\n",
       "      <td>2012</td>\n",
       "      <td>1</td>\n",
       "      <td>0.310022</td>\n",
       "      <td>-0.213097</td>\n",
       "      <td>0.230021</td>\n",
       "      <td>0.179033</td>\n",
       "      <td>-0.274486</td>\n",
       "      <td>0.006074</td>\n",
       "      <td>0.221248</td>\n",
       "      <td>0.133932</td>\n",
       "      <td>0.064997</td>\n",
       "      <td>0.104170</td>\n",
       "      <td>0.101434</td>\n",
       "    </tr>\n",
       "    <tr>\n",
       "      <th>1</th>\n",
       "      <td>2012</td>\n",
       "      <td>2</td>\n",
       "      <td>0.798152</td>\n",
       "      <td>0.506023</td>\n",
       "      <td>0.623985</td>\n",
       "      <td>0.364827</td>\n",
       "      <td>-0.274486</td>\n",
       "      <td>0.722638</td>\n",
       "      <td>0.138642</td>\n",
       "      <td>0.594384</td>\n",
       "      <td>0.289272</td>\n",
       "      <td>0.280256</td>\n",
       "      <td>0.285541</td>\n",
       "    </tr>\n",
       "    <tr>\n",
       "      <th>2</th>\n",
       "      <td>2012</td>\n",
       "      <td>3</td>\n",
       "      <td>0.170557</td>\n",
       "      <td>0.300560</td>\n",
       "      <td>-0.196773</td>\n",
       "      <td>0.392498</td>\n",
       "      <td>-0.274486</td>\n",
       "      <td>0.385432</td>\n",
       "      <td>0.056035</td>\n",
       "      <td>-0.134665</td>\n",
       "      <td>-0.832104</td>\n",
       "      <td>0.187338</td>\n",
       "      <td>0.379209</td>\n",
       "    </tr>\n",
       "    <tr>\n",
       "      <th>3</th>\n",
       "      <td>2012</td>\n",
       "      <td>4</td>\n",
       "      <td>0.100824</td>\n",
       "      <td>0.300560</td>\n",
       "      <td>0.065870</td>\n",
       "      <td>0.562479</td>\n",
       "      <td>-0.274486</td>\n",
       "      <td>0.532959</td>\n",
       "      <td>0.799491</td>\n",
       "      <td>0.939724</td>\n",
       "      <td>-0.159278</td>\n",
       "      <td>0.275020</td>\n",
       "      <td>0.595615</td>\n",
       "    </tr>\n",
       "    <tr>\n",
       "      <th>4</th>\n",
       "      <td>2012</td>\n",
       "      <td>5</td>\n",
       "      <td>0.449488</td>\n",
       "      <td>0.300560</td>\n",
       "      <td>1.017949</td>\n",
       "      <td>0.890583</td>\n",
       "      <td>3.643175</td>\n",
       "      <td>0.775327</td>\n",
       "      <td>0.469066</td>\n",
       "      <td>1.169950</td>\n",
       "      <td>-0.832104</td>\n",
       "      <td>0.551671</td>\n",
       "      <td>0.837860</td>\n",
       "    </tr>\n",
       "  </tbody>\n",
       "</table>\n",
       "</div>"
      ],
      "text/plain": [
       "   year  week  Uncertainty_final  Litigious_final  Modal_final  \\\n",
       "0  2012     1           0.310022        -0.213097     0.230021   \n",
       "1  2012     2           0.798152         0.506023     0.623985   \n",
       "2  2012     3           0.170557         0.300560    -0.196773   \n",
       "3  2012     4           0.100824         0.300560     0.065870   \n",
       "4  2012     5           0.449488         0.300560     1.017949   \n",
       "\n",
       "   Interesting_final  Superfluous_final  Negative_final  Positive_final  \\\n",
       "0           0.179033          -0.274486        0.006074        0.221248   \n",
       "1           0.364827          -0.274486        0.722638        0.138642   \n",
       "2           0.392498          -0.274486        0.385432        0.056035   \n",
       "3           0.562479          -0.274486        0.532959        0.799491   \n",
       "4           0.890583           3.643175        0.775327        0.469066   \n",
       "\n",
       "   Irr_Verb_final  Constraining_final     score  Harvard_IV_final  \n",
       "0        0.133932            0.064997  0.104170          0.101434  \n",
       "1        0.594384            0.289272  0.280256          0.285541  \n",
       "2       -0.134665           -0.832104  0.187338          0.379209  \n",
       "3        0.939724           -0.159278  0.275020          0.595615  \n",
       "4        1.169950           -0.832104  0.551671          0.837860  "
      ]
     },
     "execution_count": 142,
     "metadata": {},
     "output_type": "execute_result"
    }
   ],
   "source": [
    "stddata.head()"
   ]
  },
  {
   "cell_type": "code",
   "execution_count": 202,
   "metadata": {},
   "outputs": [
    {
     "data": {
      "text/plain": [
       "<matplotlib.axes._subplots.AxesSubplot at 0x12b965990>"
      ]
     },
     "execution_count": 202,
     "metadata": {},
     "output_type": "execute_result"
    },
    {
     "data": {
      "image/png": "[encoded data removed]",
      "text/plain": [
       "<matplotlib.figure.Figure at 0x12b9650d0>"
      ]
     },
     "metadata": {},
     "output_type": "display_data"
    }
   ],
   "source": [
    "import seaborn as sns\n",
    "corr = stddata.iloc[:,2:].corr()\n",
    "sns.heatmap(corr, \n",
    "            xticklabels=corr.columns.values,\n",
    "            yticklabels=corr.columns.values)"
   ]
  },
  {
   "cell_type": "code",
   "execution_count": 199,
   "metadata": {},
   "outputs": [
    {
     "data": {
      "image/png": "[encoded data removed]",
      "text/plain": [
       "<matplotlib.figure.Figure at 0x11f968e10>"
      ]
     },
     "metadata": {},
     "output_type": "display_data"
    }
   ],
   "source": [
    "%matplotlib inline\n",
    "import matplotlib.pyplot as plt\n",
    "trend.iloc[:,2:].hist(bins=3, figsize=(20,15))\n",
    "plt.savefig('distribution.png')\n",
    "plt.show()"
   ]
  },
  {
   "cell_type": "code",
   "execution_count": 186,
   "metadata": {
    "collapsed": true
   },
   "outputs": [],
   "source": [
    "stddata.to_csv('standardized.csv')"
   ]
  },
  {
   "cell_type": "code",
   "execution_count": null,
   "metadata": {
    "collapsed": true
   },
   "outputs": [],
   "source": [
    "newave=news.groupby(['year', 'week'], as_index=False)[vec].mean()\n"
   ]
  },
  {
   "cell_type": "code",
   "execution_count": 143,
   "metadata": {
    "collapsed": true
   },
   "outputs": [],
   "source": [
    "sectors = pd.read_csv('sectors.csv' , encoding='latin-1')\n",
    "sectors['Date'] = pd.to_datetime(sectors['Date'])"
   ]
  },
  {
   "cell_type": "code",
   "execution_count": 144,
   "metadata": {
    "collapsed": true
   },
   "outputs": [],
   "source": [
    "sectors=sectors.dropna()\n",
    "sectors['week'] = sectors['Date'].dt.week\n",
    "sectors['year'] = sectors['Date'].dt.year"
   ]
  },
  {
   "cell_type": "code",
   "execution_count": 145,
   "metadata": {
    "collapsed": true
   },
   "outputs": [],
   "source": [
    "vec=sectors.columns.tolist()[1:-2]"
   ]
  },
  {
   "cell_type": "code",
   "execution_count": 146,
   "metadata": {
    "collapsed": true
   },
   "outputs": [],
   "source": [
    "average=sectors.groupby(['year', 'week'], as_index=False)[vec].mean()"
   ]
  },
  {
   "cell_type": "code",
   "execution_count": 147,
   "metadata": {
    "collapsed": true
   },
   "outputs": [],
   "source": [
    "averages=average.shift()\n",
    "index=average.iloc[1:,2:]\n",
    "indexs=averages.iloc[1:,2:]\n",
    "#x=pd.concat([average,averages],axis=1)"
   ]
  },
  {
   "cell_type": "code",
   "execution_count": 180,
   "metadata": {},
   "outputs": [
    {
     "data": {
      "text/html": [
       "<div>\n",
       "<style>\n",
       "    .dataframe thead tr:only-child th {\n",
       "        text-align: right;\n",
       "    }\n",
       "\n",
       "    .dataframe thead th {\n",
       "        text-align: left;\n",
       "    }\n",
       "\n",
       "    .dataframe tbody tr th {\n",
       "        vertical-align: top;\n",
       "    }\n",
       "</style>\n",
       "<table border=\"1\" class=\"dataframe\">\n",
       "  <thead>\n",
       "    <tr style=\"text-align: right;\">\n",
       "      <th></th>\n",
       "      <th>year</th>\n",
       "      <th>week</th>\n",
       "      <th>XRT US</th>\n",
       "      <th>XLK US</th>\n",
       "      <th>XLE US</th>\n",
       "      <th>XLF US</th>\n",
       "      <th>XLU US</th>\n",
       "      <th>XLV US</th>\n",
       "      <th>XLP US</th>\n",
       "      <th>XLY US</th>\n",
       "      <th>XLI US</th>\n",
       "    </tr>\n",
       "  </thead>\n",
       "  <tbody>\n",
       "    <tr>\n",
       "      <th>0</th>\n",
       "      <td>2008</td>\n",
       "      <td>1</td>\n",
       "      <td>13.420083</td>\n",
       "      <td>19.511667</td>\n",
       "      <td>61.3250</td>\n",
       "      <td>16.261667</td>\n",
       "      <td>34.208333</td>\n",
       "      <td>29.373333</td>\n",
       "      <td>25.766667</td>\n",
       "      <td>26.901667</td>\n",
       "      <td>30.531667</td>\n",
       "    </tr>\n",
       "    <tr>\n",
       "      <th>1</th>\n",
       "      <td>2008</td>\n",
       "      <td>2</td>\n",
       "      <td>13.346250</td>\n",
       "      <td>19.667500</td>\n",
       "      <td>67.6075</td>\n",
       "      <td>14.852500</td>\n",
       "      <td>34.777500</td>\n",
       "      <td>29.045000</td>\n",
       "      <td>26.152500</td>\n",
       "      <td>25.742500</td>\n",
       "      <td>29.880000</td>\n",
       "    </tr>\n",
       "    <tr>\n",
       "      <th>2</th>\n",
       "      <td>2008</td>\n",
       "      <td>3</td>\n",
       "      <td>14.808000</td>\n",
       "      <td>23.870000</td>\n",
       "      <td>72.0220</td>\n",
       "      <td>21.616000</td>\n",
       "      <td>41.888000</td>\n",
       "      <td>35.538000</td>\n",
       "      <td>27.690000</td>\n",
       "      <td>29.976000</td>\n",
       "      <td>35.628000</td>\n",
       "    </tr>\n",
       "  </tbody>\n",
       "</table>\n",
       "</div>"
      ],
      "text/plain": [
       "   year  week     XRT US     XLK US   XLE US     XLF US     XLU US     XLV US  \\\n",
       "0  2008     1  13.420083  19.511667  61.3250  16.261667  34.208333  29.373333   \n",
       "1  2008     2  13.346250  19.667500  67.6075  14.852500  34.777500  29.045000   \n",
       "2  2008     3  14.808000  23.870000  72.0220  21.616000  41.888000  35.538000   \n",
       "\n",
       "      XLP US     XLY US     XLI US  \n",
       "0  25.766667  26.901667  30.531667  \n",
       "1  26.152500  25.742500  29.880000  \n",
       "2  27.690000  29.976000  35.628000  "
      ]
     },
     "execution_count": 180,
     "metadata": {},
     "output_type": "execute_result"
    }
   ],
   "source": [
    "average.head(3)"
   ]
  },
  {
   "cell_type": "code",
   "execution_count": 179,
   "metadata": {},
   "outputs": [
    {
     "data": {
      "text/html": [
       "<div>\n",
       "<style>\n",
       "    .dataframe thead tr:only-child th {\n",
       "        text-align: right;\n",
       "    }\n",
       "\n",
       "    .dataframe thead th {\n",
       "        text-align: left;\n",
       "    }\n",
       "\n",
       "    .dataframe tbody tr th {\n",
       "        vertical-align: top;\n",
       "    }\n",
       "</style>\n",
       "<table border=\"1\" class=\"dataframe\">\n",
       "  <thead>\n",
       "    <tr style=\"text-align: right;\">\n",
       "      <th></th>\n",
       "      <th>year</th>\n",
       "      <th>week</th>\n",
       "      <th>XRT US</th>\n",
       "      <th>XLK US</th>\n",
       "      <th>XLE US</th>\n",
       "      <th>XLF US</th>\n",
       "      <th>XLU US</th>\n",
       "      <th>XLV US</th>\n",
       "      <th>XLP US</th>\n",
       "      <th>XLY US</th>\n",
       "      <th>XLI US</th>\n",
       "    </tr>\n",
       "  </thead>\n",
       "  <tbody>\n",
       "    <tr>\n",
       "      <th>0</th>\n",
       "      <td>NaN</td>\n",
       "      <td>NaN</td>\n",
       "      <td>NaN</td>\n",
       "      <td>NaN</td>\n",
       "      <td>NaN</td>\n",
       "      <td>NaN</td>\n",
       "      <td>NaN</td>\n",
       "      <td>NaN</td>\n",
       "      <td>NaN</td>\n",
       "      <td>NaN</td>\n",
       "      <td>NaN</td>\n",
       "    </tr>\n",
       "    <tr>\n",
       "      <th>1</th>\n",
       "      <td>2008.0</td>\n",
       "      <td>1.0</td>\n",
       "      <td>13.420083</td>\n",
       "      <td>19.511667</td>\n",
       "      <td>61.3250</td>\n",
       "      <td>16.261667</td>\n",
       "      <td>34.208333</td>\n",
       "      <td>29.373333</td>\n",
       "      <td>25.766667</td>\n",
       "      <td>26.901667</td>\n",
       "      <td>30.531667</td>\n",
       "    </tr>\n",
       "    <tr>\n",
       "      <th>2</th>\n",
       "      <td>2008.0</td>\n",
       "      <td>2.0</td>\n",
       "      <td>13.346250</td>\n",
       "      <td>19.667500</td>\n",
       "      <td>67.6075</td>\n",
       "      <td>14.852500</td>\n",
       "      <td>34.777500</td>\n",
       "      <td>29.045000</td>\n",
       "      <td>26.152500</td>\n",
       "      <td>25.742500</td>\n",
       "      <td>29.880000</td>\n",
       "    </tr>\n",
       "  </tbody>\n",
       "</table>\n",
       "</div>"
      ],
      "text/plain": [
       "     year  week     XRT US     XLK US   XLE US     XLF US     XLU US  \\\n",
       "0     NaN   NaN        NaN        NaN      NaN        NaN        NaN   \n",
       "1  2008.0   1.0  13.420083  19.511667  61.3250  16.261667  34.208333   \n",
       "2  2008.0   2.0  13.346250  19.667500  67.6075  14.852500  34.777500   \n",
       "\n",
       "      XLV US     XLP US     XLY US     XLI US  \n",
       "0        NaN        NaN        NaN        NaN  \n",
       "1  29.373333  25.766667  26.901667  30.531667  \n",
       "2  29.045000  26.152500  25.742500  29.880000  "
      ]
     },
     "execution_count": 179,
     "metadata": {},
     "output_type": "execute_result"
    }
   ],
   "source": [
    "averages.head(3)"
   ]
  },
  {
   "cell_type": "code",
   "execution_count": 148,
   "metadata": {
    "collapsed": true
   },
   "outputs": [],
   "source": [
    "label=(index.subtract(indexs, fill_value=0)>0)*1\n",
    "dates=average.iloc[1:,:2]\n",
    "trend=pd.concat([dates,label],axis=1)"
   ]
  },
  {
   "cell_type": "code",
   "execution_count": 187,
   "metadata": {
    "collapsed": true
   },
   "outputs": [],
   "source": [
    "trend.to_csv('trend.csv')"
   ]
  },
  {
   "cell_type": "code",
   "execution_count": 150,
   "metadata": {
    "collapsed": true
   },
   "outputs": [],
   "source": [
    "merged = pd.merge(stddata,trend, on=['year','week'])"
   ]
  },
  {
   "cell_type": "code",
   "execution_count": 151,
   "metadata": {},
   "outputs": [
    {
     "data": {
      "text/html": [
       "<div>\n",
       "<style>\n",
       "    .dataframe thead tr:only-child th {\n",
       "        text-align: right;\n",
       "    }\n",
       "\n",
       "    .dataframe thead th {\n",
       "        text-align: left;\n",
       "    }\n",
       "\n",
       "    .dataframe tbody tr th {\n",
       "        vertical-align: top;\n",
       "    }\n",
       "</style>\n",
       "<table border=\"1\" class=\"dataframe\">\n",
       "  <thead>\n",
       "    <tr style=\"text-align: right;\">\n",
       "      <th></th>\n",
       "      <th>year</th>\n",
       "      <th>week</th>\n",
       "      <th>Uncertainty_final</th>\n",
       "      <th>Litigious_final</th>\n",
       "      <th>Modal_final</th>\n",
       "      <th>Interesting_final</th>\n",
       "      <th>Superfluous_final</th>\n",
       "      <th>Negative_final</th>\n",
       "      <th>Positive_final</th>\n",
       "      <th>Irr_Verb_final</th>\n",
       "      <th>...</th>\n",
       "      <th>Harvard_IV_final</th>\n",
       "      <th>XRT US</th>\n",
       "      <th>XLK US</th>\n",
       "      <th>XLE US</th>\n",
       "      <th>XLF US</th>\n",
       "      <th>XLU US</th>\n",
       "      <th>XLV US</th>\n",
       "      <th>XLP US</th>\n",
       "      <th>XLY US</th>\n",
       "      <th>XLI US</th>\n",
       "    </tr>\n",
       "  </thead>\n",
       "  <tbody>\n",
       "    <tr>\n",
       "      <th>0</th>\n",
       "      <td>2012</td>\n",
       "      <td>1</td>\n",
       "      <td>0.310022</td>\n",
       "      <td>-0.213097</td>\n",
       "      <td>0.230021</td>\n",
       "      <td>0.179033</td>\n",
       "      <td>-0.274486</td>\n",
       "      <td>0.006074</td>\n",
       "      <td>0.221248</td>\n",
       "      <td>0.133932</td>\n",
       "      <td>...</td>\n",
       "      <td>0.101434</td>\n",
       "      <td>1</td>\n",
       "      <td>1</td>\n",
       "      <td>1</td>\n",
       "      <td>1</td>\n",
       "      <td>1</td>\n",
       "      <td>1</td>\n",
       "      <td>1</td>\n",
       "      <td>1</td>\n",
       "      <td>1</td>\n",
       "    </tr>\n",
       "    <tr>\n",
       "      <th>1</th>\n",
       "      <td>2012</td>\n",
       "      <td>2</td>\n",
       "      <td>0.798152</td>\n",
       "      <td>0.506023</td>\n",
       "      <td>0.623985</td>\n",
       "      <td>0.364827</td>\n",
       "      <td>-0.274486</td>\n",
       "      <td>0.722638</td>\n",
       "      <td>0.138642</td>\n",
       "      <td>0.594384</td>\n",
       "      <td>...</td>\n",
       "      <td>0.285541</td>\n",
       "      <td>1</td>\n",
       "      <td>1</td>\n",
       "      <td>1</td>\n",
       "      <td>1</td>\n",
       "      <td>1</td>\n",
       "      <td>1</td>\n",
       "      <td>1</td>\n",
       "      <td>1</td>\n",
       "      <td>1</td>\n",
       "    </tr>\n",
       "    <tr>\n",
       "      <th>2</th>\n",
       "      <td>2012</td>\n",
       "      <td>3</td>\n",
       "      <td>0.170557</td>\n",
       "      <td>0.300560</td>\n",
       "      <td>-0.196773</td>\n",
       "      <td>0.392498</td>\n",
       "      <td>-0.274486</td>\n",
       "      <td>0.385432</td>\n",
       "      <td>0.056035</td>\n",
       "      <td>-0.134665</td>\n",
       "      <td>...</td>\n",
       "      <td>0.379209</td>\n",
       "      <td>0</td>\n",
       "      <td>0</td>\n",
       "      <td>0</td>\n",
       "      <td>0</td>\n",
       "      <td>0</td>\n",
       "      <td>0</td>\n",
       "      <td>0</td>\n",
       "      <td>0</td>\n",
       "      <td>0</td>\n",
       "    </tr>\n",
       "    <tr>\n",
       "      <th>3</th>\n",
       "      <td>2012</td>\n",
       "      <td>4</td>\n",
       "      <td>0.100824</td>\n",
       "      <td>0.300560</td>\n",
       "      <td>0.065870</td>\n",
       "      <td>0.562479</td>\n",
       "      <td>-0.274486</td>\n",
       "      <td>0.532959</td>\n",
       "      <td>0.799491</td>\n",
       "      <td>0.939724</td>\n",
       "      <td>...</td>\n",
       "      <td>0.595615</td>\n",
       "      <td>1</td>\n",
       "      <td>1</td>\n",
       "      <td>1</td>\n",
       "      <td>1</td>\n",
       "      <td>1</td>\n",
       "      <td>0</td>\n",
       "      <td>1</td>\n",
       "      <td>1</td>\n",
       "      <td>1</td>\n",
       "    </tr>\n",
       "    <tr>\n",
       "      <th>4</th>\n",
       "      <td>2012</td>\n",
       "      <td>5</td>\n",
       "      <td>0.449488</td>\n",
       "      <td>0.300560</td>\n",
       "      <td>1.017949</td>\n",
       "      <td>0.890583</td>\n",
       "      <td>3.643175</td>\n",
       "      <td>0.775327</td>\n",
       "      <td>0.469066</td>\n",
       "      <td>1.169950</td>\n",
       "      <td>...</td>\n",
       "      <td>0.837860</td>\n",
       "      <td>1</td>\n",
       "      <td>1</td>\n",
       "      <td>1</td>\n",
       "      <td>1</td>\n",
       "      <td>1</td>\n",
       "      <td>1</td>\n",
       "      <td>1</td>\n",
       "      <td>1</td>\n",
       "      <td>1</td>\n",
       "    </tr>\n",
       "  </tbody>\n",
       "</table>\n",
       "<p>5 rows × 22 columns</p>\n",
       "</div>"
      ],
      "text/plain": [
       "   year  week  Uncertainty_final  Litigious_final  Modal_final  \\\n",
       "0  2012     1           0.310022        -0.213097     0.230021   \n",
       "1  2012     2           0.798152         0.506023     0.623985   \n",
       "2  2012     3           0.170557         0.300560    -0.196773   \n",
       "3  2012     4           0.100824         0.300560     0.065870   \n",
       "4  2012     5           0.449488         0.300560     1.017949   \n",
       "\n",
       "   Interesting_final  Superfluous_final  Negative_final  Positive_final  \\\n",
       "0           0.179033          -0.274486        0.006074        0.221248   \n",
       "1           0.364827          -0.274486        0.722638        0.138642   \n",
       "2           0.392498          -0.274486        0.385432        0.056035   \n",
       "3           0.562479          -0.274486        0.532959        0.799491   \n",
       "4           0.890583           3.643175        0.775327        0.469066   \n",
       "\n",
       "   Irr_Verb_final   ...    Harvard_IV_final  XRT US  XLK US  XLE US  XLF US  \\\n",
       "0        0.133932   ...            0.101434       1       1       1       1   \n",
       "1        0.594384   ...            0.285541       1       1       1       1   \n",
       "2       -0.134665   ...            0.379209       0       0       0       0   \n",
       "3        0.939724   ...            0.595615       1       1       1       1   \n",
       "4        1.169950   ...            0.837860       1       1       1       1   \n",
       "\n",
       "   XLU US  XLV US  XLP US  XLY US  XLI US  \n",
       "0       1       1       1       1       1  \n",
       "1       1       1       1       1       1  \n",
       "2       0       0       0       0       0  \n",
       "3       1       0       1       1       1  \n",
       "4       1       1       1       1       1  \n",
       "\n",
       "[5 rows x 22 columns]"
      ]
     },
     "execution_count": 151,
     "metadata": {},
     "output_type": "execute_result"
    }
   ],
   "source": [
    "merged.head()\n"
   ]
  },
  {
   "cell_type": "code",
   "execution_count": 156,
   "metadata": {
    "collapsed": true
   },
   "outputs": [],
   "source": [
    "feature=merged.columns[2:13]\n",
    "response=merged.columns[13:]"
   ]
  },
  {
   "cell_type": "code",
   "execution_count": 162,
   "metadata": {
    "collapsed": true
   },
   "outputs": [],
   "source": [
    "train=merged[merged['year'] .isin([2012,2013,2014,2015])]"
   ]
  },
  {
   "cell_type": "code",
   "execution_count": 163,
   "metadata": {
    "collapsed": true
   },
   "outputs": [],
   "source": [
    "test=merged[merged['year'] .isin([2016,2017])]"
   ]
  },
  {
   "cell_type": "code",
   "execution_count": 164,
   "metadata": {
    "collapsed": true
   },
   "outputs": [],
   "source": [
    "X_train = train[feature]\n",
    "y_train = train[response]\n",
    "X_test =test [feature]\n",
    "y_test =test [response]"
   ]
  },
  {
   "cell_type": "code",
   "execution_count": 184,
   "metadata": {},
   "outputs": [
    {
     "name": "stdout",
     "output_type": "stream",
     "text": [
      "Random Forest Model Accuracy: 49.52%\n"
     ]
    }
   ],
   "source": [
    "from sklearn.ensemble import RandomForestClassifier\n",
    "from sklearn.metrics import accuracy_score\n",
    "def randomforest(y_train,y_test):\n",
    "    global RandomForestClassifier\n",
    "    rf = RandomForestClassifier(n_estimators=100,max_depth=5)\n",
    "    rf.fit(X_train, y_train)\n",
    "    predicted = rf.predict(X_test)\n",
    "    accuracy = accuracy_score(y_test, predicted)\n",
    "    print(\"Random Forest Model Accuracy: %.2f%%\" % (accuracy * 100.0))\n",
    "randomforest(y_train.iloc[:,1],y_test.iloc[:,1])"
   ]
  },
  {
   "cell_type": "code",
   "execution_count": 172,
   "metadata": {},
   "outputs": [
    {
     "name": "stdout",
     "output_type": "stream",
     "text": [
      "Logistic Regression Model Accuracy: 54.29%\n"
     ]
    }
   ],
   "source": [
    "from sklearn.linear_model import LogisticRegression\n",
    "def lr(y_train,y_test):\n",
    "    global logistic\n",
    "    logistic = LogisticRegression()\n",
    "    logistic.fit(X_train, y_train)\n",
    "    score = logistic.score(X_test, y_test)\n",
    "    print(\"Logistic Regression Model Accuracy: %.2f%%\" % (score * 100.0))\n",
    "lr(y_train.iloc[:,1],y_test.iloc[:,1])"
   ]
  },
  {
   "cell_type": "code",
   "execution_count": 182,
   "metadata": {},
   "outputs": [
    {
     "name": "stdout",
     "output_type": "stream",
     "text": [
      "Logistic Regression Model Accuracy: 50.48%\n",
      "Logistic Regression Model Accuracy: 50.48%\n"
     ]
    }
   ],
   "source": [
    "lr(y_train.iloc[:,2],y_test.iloc[:,2])\n",
    "randomforest(y_train.iloc[:,2],y_test.iloc[:,2])"
   ]
  },
  {
   "cell_type": "code",
   "execution_count": 174,
   "metadata": {},
   "outputs": [
    {
     "name": "stdout",
     "output_type": "stream",
     "text": [
      "Logistic Regression Model Accuracy: 60.00%\n"
     ]
    }
   ],
   "source": [
    "lr(y_train.iloc[:,3],y_test.iloc[:,3])"
   ]
  },
  {
   "cell_type": "code",
   "execution_count": 185,
   "metadata": {},
   "outputs": [
    {
     "name": "stdout",
     "output_type": "stream",
     "text": [
      "Random Forest Model Accuracy: 47.62%\n"
     ]
    }
   ],
   "source": [
    "randomforest(y_train.iloc[:,2],y_test.iloc[:,2])"
   ]
  },
  {
   "cell_type": "code",
   "execution_count": 188,
   "metadata": {
    "collapsed": true
   },
   "outputs": [],
   "source": [
    "corr_matrix = stddata.corr()"
   ]
  },
  {
   "cell_type": "code",
   "execution_count": 190,
   "metadata": {},
   "outputs": [
    {
     "data": {
      "text/plain": [
       "Uncertainty_final     1.000000\n",
       "Modal_final           0.927546\n",
       "Interesting_final     0.894846\n",
       "Harvard_IV_final      0.885855\n",
       "Negative_final        0.882471\n",
       "score                 0.873606\n",
       "Irr_Verb_final        0.849510\n",
       "Litigious_final       0.833377\n",
       "Positive_final        0.811488\n",
       "Constraining_final    0.679436\n",
       "Superfluous_final     0.012884\n",
       "week                 -0.122773\n",
       "year                 -0.661157\n",
       "Name: Uncertainty_final, dtype: float64"
      ]
     },
     "execution_count": 190,
     "metadata": {},
     "output_type": "execute_result"
    }
   ],
   "source": [
    "corr_matrix[\"Uncertainty_final\"].sort_values(ascending=False)"
   ]
  },
  {
   "cell_type": "code",
   "execution_count": null,
   "metadata": {
    "collapsed": true
   },
   "outputs": [],
   "source": []
  }
 ],
 "metadata": {
  "kernelspec": {
   "display_name": "Python 2",
   "language": "python",
   "name": "python2"
  },
  "language_info": {
   "codemirror_mode": {
    "name": "ipython",
    "version": 2
   },
   "file_extension": ".py",
   "mimetype": "text/x-python",
   "name": "python",
   "nbconvert_exporter": "python",
   "pygments_lexer": "ipython2",
   "version": "2.7.13"
  }
 },
 "nbformat": 4,
 "nbformat_minor": 2
}
