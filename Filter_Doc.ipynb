{
 "cells": [
  {
   "cell_type": "code",
   "execution_count": null,
   "metadata": {
    "collapsed": true
   },
   "outputs": [],
   "source": [
    "#The purpose of this script is to clean the news header data by matching the keyword to the Mcdonald dictionary\n",
    "#To do = extract mood of the keyword\n",
    "import pandas as pd\n",
    "import nltk\n",
    "from itertools import chain"
   ]
  },
  {
   "cell_type": "code",
   "execution_count": 5,
   "metadata": {
    "collapsed": true
   },
   "outputs": [],
   "source": [
    "#Load dictionary\n",
    "LMD = pd.read_excel(\"D:\\\\NLP\\\\LoughranMcDonald_MasterDictionary_2014.xlsx\")"
   ]
  },
  {
   "cell_type": "code",
   "execution_count": 6,
   "metadata": {
    "collapsed": true
   },
   "outputs": [],
   "source": [
    "#The original file use year instead of flag variable\n",
    "#Change to flag variable 1 = indicate the sentiment\n",
    "\n",
    "LMD.loc[LMD.Negative != 0 , 'Negative'] = 1\n",
    "LMD.loc[LMD.Positive != 0 , 'Positive'] = 1\n",
    "LMD.loc[LMD.Uncertainty != 0 , 'Uncertainty'] = 1\n",
    "LMD.loc[LMD.Litigious != 0 , 'Litigious'] = 1\n",
    "LMD.loc[LMD.Superfluous != 0 , 'Superfluous'] = 1\n",
    "LMD.loc[LMD.Interesting != 0 , 'Interesting'] = 1\n"
   ]
  },
  {
   "cell_type": "code",
   "execution_count": 7,
   "metadata": {},
   "outputs": [
    {
     "data": {
      "text/plain": [
       "True"
      ]
     },
     "execution_count": 7,
     "metadata": {},
     "output_type": "execute_result"
    }
   ],
   "source": [
    "#Change from list of list to list\n",
    "main_word = LMD[[\"Word\"]].values.flatten().tolist()\n",
    "\n",
    "#Test\n",
    "\"ABACI\" in main_word\n"
   ]
  },
  {
   "cell_type": "code",
   "execution_count": 8,
   "metadata": {
    "collapsed": true
   },
   "outputs": [],
   "source": [
    "#Import Stopwords\n",
    "#The Mcdonald contains stopwords\n",
    "from nltk.corpus import stopwords"
   ]
  },
  {
   "cell_type": "code",
   "execution_count": 9,
   "metadata": {},
   "outputs": [
    {
     "name": "stdout",
     "output_type": "stream",
     "text": [
      "['i', 'me', 'my', 'myself', 'we', 'our', 'ours', 'ourselves', 'you', \"you're\", \"you've\", \"you'll\", \"you'd\", 'your', 'yours', 'yourself', 'yourselves', 'he', 'him', 'his', 'himself', 'she', \"she's\", 'her', 'hers', 'herself', 'it', \"it's\", 'its', 'itself', 'they', 'them', 'their', 'theirs', 'themselves', 'what', 'which', 'who', 'whom', 'this', 'that', \"that'll\", 'these', 'those', 'am', 'is', 'are', 'was', 'were', 'be', 'been', 'being', 'have', 'has', 'had', 'having', 'do', 'does', 'did', 'doing', 'a', 'an', 'the', 'and', 'but', 'if', 'or', 'because', 'as', 'until', 'while', 'of', 'at', 'by', 'for', 'with', 'about', 'against', 'between', 'into', 'through', 'during', 'before', 'after', 'above', 'below', 'to', 'from', 'up', 'down', 'in', 'out', 'on', 'off', 'over', 'under', 'again', 'further', 'then', 'once', 'here', 'there', 'when', 'where', 'why', 'how', 'all', 'any', 'both', 'each', 'few', 'more', 'most', 'other', 'some', 'such', 'no', 'nor', 'not', 'only', 'own', 'same', 'so', 'than', 'too', 'very', 's', 't', 'can', 'will', 'just', 'don', \"don't\", 'should', \"should've\", 'now', 'd', 'll', 'm', 'o', 're', 've', 'y', 'ain', 'aren', \"aren't\", 'couldn', \"couldn't\", 'didn', \"didn't\", 'doesn', \"doesn't\", 'hadn', \"hadn't\", 'hasn', \"hasn't\", 'haven', \"haven't\", 'isn', \"isn't\", 'ma', 'mightn', \"mightn't\", 'mustn', \"mustn't\", 'needn', \"needn't\", 'shan', \"shan't\", 'shouldn', \"shouldn't\", 'wasn', \"wasn't\", 'weren', \"weren't\", 'won', \"won't\", 'wouldn', \"wouldn't\"]\n"
     ]
    }
   ],
   "source": [
    "#Download only if run this for the first time\n",
    "#Uncomment the command below\n",
    "#nltk.download()\n",
    "stop_words = stopwords.words('english')\n",
    "print(stop_words)"
   ]
  },
  {
   "cell_type": "code",
   "execution_count": 82,
   "metadata": {
    "collapsed": true
   },
   "outputs": [],
   "source": [
    "#Read the raw_data\n",
    "news_data = pd.read_json(\"D:\\\\NLP\\\\WSJ\\\\wsj.json\")"
   ]
  },
  {
   "cell_type": "code",
   "execution_count": 41,
   "metadata": {},
   "outputs": [
    {
     "name": "stdout",
     "output_type": "stream",
     "text": [
      "(63032, 3)\n",
      "        category                                               date  \\\n",
      "0     [Politics]  [\\n      Updated Jan. 1, 2012 11:06 p.m. ET\\n ...   \n",
      "1         [Tech]          [\\n  Updated Jan. 1, 2012 9:25 p.m. ET\\n]   \n",
      "2     [Business]          [\\n  Updated Jan. 1, 2012 9:05 a.m. ET\\n]   \n",
      "3     [Business]                 [\\n  Jan. 1, 2012 10:36 p.m. ET\\n]   \n",
      "4  [Health Care]          [\\n  Updated Jan. 1, 2012 9:00 p.m. ET\\n]   \n",
      "\n",
      "                                               title  \n",
      "0  [White House Looks to Shrunken 2012 Legislativ...  \n",
      "1            [China Issues Rules on Web Competition]  \n",
      "2       [Rio Tinto Unit Shuts Out Workers in Quebec]  \n",
      "3             [Hyundai Heavy Expects Difficult Year]  \n",
      "4       [Hong Kong Poultry Ban After Bird Flu Death]  \n"
     ]
    }
   ],
   "source": [
    "print(news_data.shape)\n",
    "print(news_data.head())\n"
   ]
  },
  {
   "cell_type": "code",
   "execution_count": 83,
   "metadata": {},
   "outputs": [
    {
     "data": {
      "text/html": [
       "<div>\n",
       "<style>\n",
       "    .dataframe thead tr:only-child th {\n",
       "        text-align: right;\n",
       "    }\n",
       "\n",
       "    .dataframe thead th {\n",
       "        text-align: left;\n",
       "    }\n",
       "\n",
       "    .dataframe tbody tr th {\n",
       "        vertical-align: top;\n",
       "    }\n",
       "</style>\n",
       "<table border=\"1\" class=\"dataframe\">\n",
       "  <thead>\n",
       "    <tr style=\"text-align: right;\">\n",
       "      <th></th>\n",
       "      <th>category</th>\n",
       "      <th>date</th>\n",
       "      <th>title</th>\n",
       "    </tr>\n",
       "  </thead>\n",
       "  <tbody>\n",
       "    <tr>\n",
       "      <th>0</th>\n",
       "      <td>Politics</td>\n",
       "      <td>\\n      Updated Jan. 1, 2012 11:06 p.m. ET\\n</td>\n",
       "      <td>White House Looks to Shrunken 2012 Legislative...</td>\n",
       "    </tr>\n",
       "    <tr>\n",
       "      <th>1</th>\n",
       "      <td>Tech</td>\n",
       "      <td>\\n  Updated Jan. 1, 2012 9:25 p.m. ET\\n</td>\n",
       "      <td>China Issues Rules on Web Competition</td>\n",
       "    </tr>\n",
       "    <tr>\n",
       "      <th>2</th>\n",
       "      <td>Business</td>\n",
       "      <td>\\n  Updated Jan. 1, 2012 9:05 a.m. ET\\n</td>\n",
       "      <td>Rio Tinto Unit Shuts Out Workers in Quebec</td>\n",
       "    </tr>\n",
       "    <tr>\n",
       "      <th>3</th>\n",
       "      <td>Business</td>\n",
       "      <td>\\n  Jan. 1, 2012 10:36 p.m. ET\\n</td>\n",
       "      <td>Hyundai Heavy Expects Difficult Year</td>\n",
       "    </tr>\n",
       "  </tbody>\n",
       "</table>\n",
       "</div>"
      ],
      "text/plain": [
       "   category                                              date  \\\n",
       "0  Politics  \\n      Updated Jan. 1, 2012 11:06 p.m. ET\\n       \n",
       "1      Tech           \\n  Updated Jan. 1, 2012 9:25 p.m. ET\\n   \n",
       "2  Business           \\n  Updated Jan. 1, 2012 9:05 a.m. ET\\n   \n",
       "3  Business                  \\n  Jan. 1, 2012 10:36 p.m. ET\\n   \n",
       "\n",
       "                                               title  \n",
       "0  White House Looks to Shrunken 2012 Legislative...  \n",
       "1              China Issues Rules on Web Competition  \n",
       "2         Rio Tinto Unit Shuts Out Workers in Quebec  \n",
       "3               Hyundai Heavy Expects Difficult Year  "
      ]
     },
     "execution_count": 83,
     "metadata": {},
     "output_type": "execute_result"
    }
   ],
   "source": [
    "# for i in range(10):\n",
    "#     print(news_data_title[i][0])\n",
    "\n",
    "#Convert from list of list to list using .str[0]\n",
    "news_data[\"title\"] = news_data[\"title\"].str[0]    \n",
    "news_data[\"category\"] = news_data[\"category\"].str[0]    \n",
    "news_data[\"date\"] = news_data[\"date\"].str[0]    \n",
    "news_data.head(4)"
   ]
  },
  {
   "cell_type": "code",
   "execution_count": null,
   "metadata": {
    "collapsed": true
   },
   "outputs": [],
   "source": [
    "#Extract date from the given string#\n",
    "\n",
    "final_date = [] \n",
    "lookup_month = [\"jan\" , \"feb\" , \"mar\" , \"apr\" , \"may\" , \"jun\" , \"jul\" , \"aug\" , \"sep\" , \"oct\" , \"nov\" , \"dec\"]\n",
    "row = news_data.shape[0] \n",
    "track = 1 #just to track progress\n",
    "\n",
    "for i in range(row):\n",
    "    text = news_data[\"date\"][i]\n",
    "    text = text.lower()\n",
    "    \n",
    "    #split by comma (month and day before comma and after comma is year)\n",
    "    temp = text.split(\",\")\n",
    "    \n",
    "    #Get day\n",
    "    day = temp[0][-2:].replace(\"  \", \"\")\n",
    "    \n",
    "    #Get year\n",
    "    year = temp[1][0:5].replace(\" \",\"\")\n",
    "    \n",
    "    #Get month\n",
    "    for m  in lookup_month:\n",
    "        if temp[0].find(m) != -1:\n",
    "            month = m \n",
    "    \n",
    "    #Print process\n",
    "    if i/10000 > track:\n",
    "        print(i)\n",
    "        track = track + 1\n",
    "    \n",
    "    final_date.append(day + \"-\" + month + \"-\" + year)\n",
    "\n",
    "    \n",
    "# test = \"Updated Jan. 31, 2012 9:25 p.m. ET\"\n",
    "# test = test.lower()\n",
    "# test.find(\"jan\")\n",
    "#Day\n",
    "#test.split(\",\")[0][-2:].replace(\" \" , \"\")\n",
    "\n",
    "#Year = second list from 1:5\n",
    "#day = last two digit"
   ]
  },
  {
   "cell_type": "code",
   "execution_count": null,
   "metadata": {
    "collapsed": true
   },
   "outputs": [],
   "source": [
    "#The output of this chunk is the \"score.csv\" file.... no need to run it again\n",
    "#Need to change this to also extract the mood of the market\n",
    "\n",
    "#See https://machinelearningmastery.com/clean-text-machine-learning-python/\n",
    "#test = [\"This is a a a ABAFT a ZOOM\" , \"AARDVARK V CJAS AARDVARKS ABALONE ABALONE\"]\n",
    "# for i in range(10):\n",
    "#     print(news_data[\"title\"][i])\n",
    "\n",
    "final_score = []\n",
    "track = 1\n",
    "for i in range(row): #For each news header\n",
    "    #score = w1+w2+...\n",
    "    data = news_data[\"title\"][i]\n",
    "    accum = 0 \n",
    "    \n",
    "    tokens = nltk.word_tokenize(data) #Tokenize each news header\n",
    "    tokens = [w.lower() for w in tokens] #Convert to lower case\n",
    "    \n",
    "    stop_words = set(stopwords.words('english')) #Remove stop word\n",
    "    words = [w for w in tokens if not w in stop_words]\n",
    "    \n",
    "    words = [w.upper() for w in words] #Convert to upper case since the dictionary is in uppercase \n",
    "    words = [a for a in words if a in main_word] #Match only those word in the main_Word\n",
    "    \n",
    "    #Calculate score for each news header\n",
    "    #Get word proportion of each matched token\n",
    "\n",
    "    for token in words:\n",
    "        temp_score = LMD.loc[LMD.Word == token,  'Word Proportion'].values\n",
    "        #list of list to list\n",
    "        temp_score = temp_score[0]\n",
    "        \n",
    "        accum = accum + temp_score\n",
    "    \n",
    "    final_score.append(accum)\n",
    "        \n",
    "    #Print process\n",
    "    if i/10000 > track:\n",
    "        print(i)\n",
    "        track = track + 1\n",
    "\n",
    "    print(i)\n",
    "    \n",
    "#THEN WE HAVE SCORE FOR EACH\\ TOPIC\n",
    "#THEN WE FILTER OUT \n",
    "#LET\"S SAY WE TAKE ANYTHING WITH SCORE >=...\n",
    "#NOW EACH DAY WE WILL HAVE THE SUM OF FEATURE \n",
    "#DAY1 -> total_panic_score total_n score ....."
   ]
  },
  {
   "cell_type": "code",
   "execution_count": 249,
   "metadata": {},
   "outputs": [],
   "source": [
    "news_data.shape\n",
    "news_data[\"score\"] = final_score"
   ]
  },
  {
   "cell_type": "code",
   "execution_count": 254,
   "metadata": {},
   "outputs": [],
   "source": [
    "news_data[\"final_date\"] = final_date"
   ]
  },
  {
   "cell_type": "code",
   "execution_count": 256,
   "metadata": {},
   "outputs": [],
   "source": [
    "news_data.sample(10)\n",
    "news_data_final = news_data.drop('date', 1)"
   ]
  },
  {
   "cell_type": "code",
   "execution_count": 258,
   "metadata": {},
   "outputs": [
    {
     "data": {
      "text/html": [
       "<div>\n",
       "<style>\n",
       "    .dataframe thead tr:only-child th {\n",
       "        text-align: right;\n",
       "    }\n",
       "\n",
       "    .dataframe thead th {\n",
       "        text-align: left;\n",
       "    }\n",
       "\n",
       "    .dataframe tbody tr th {\n",
       "        vertical-align: top;\n",
       "    }\n",
       "</style>\n",
       "<table border=\"1\" class=\"dataframe\">\n",
       "  <thead>\n",
       "    <tr style=\"text-align: right;\">\n",
       "      <th></th>\n",
       "      <th>category</th>\n",
       "      <th>title</th>\n",
       "      <th>score</th>\n",
       "      <th>final_date</th>\n",
       "    </tr>\n",
       "  </thead>\n",
       "  <tbody>\n",
       "    <tr>\n",
       "      <th>31763</th>\n",
       "      <td>DJFX Trader</td>\n",
       "      <td>Rupee Takes a Toll on Foreign Companies</td>\n",
       "      <td>8.901475e-04</td>\n",
       "      <td>28-jun-2012</td>\n",
       "    </tr>\n",
       "    <tr>\n",
       "      <th>32577</th>\n",
       "      <td>Bookshelf</td>\n",
       "      <td>How the Fittest Theory Survived</td>\n",
       "      <td>4.349556e-06</td>\n",
       "      <td>4-jul-2012</td>\n",
       "    </tr>\n",
       "    <tr>\n",
       "      <th>56901</th>\n",
       "      <td>IPOs</td>\n",
       "      <td>After Low Pricing, China's YY Gains 7.7% on Na...</td>\n",
       "      <td>4.773402e-04</td>\n",
       "      <td>21-nov-2012</td>\n",
       "    </tr>\n",
       "    <tr>\n",
       "      <th>3298</th>\n",
       "      <td>Middle East</td>\n",
       "      <td>U.S. Moves to Shut Embassy in Syria</td>\n",
       "      <td>8.507683e-06</td>\n",
       "      <td>21-jan-2012</td>\n",
       "    </tr>\n",
       "    <tr>\n",
       "      <th>14492</th>\n",
       "      <td>Political Diary</td>\n",
       "      <td>The Real Democrats of New York</td>\n",
       "      <td>1.212421e-03</td>\n",
       "      <td>26-mar-2012</td>\n",
       "    </tr>\n",
       "    <tr>\n",
       "      <th>10423</th>\n",
       "      <td>Bookshelf</td>\n",
       "      <td>High And Mighty</td>\n",
       "      <td>1.421656e-04</td>\n",
       "      <td>1-mar-2012</td>\n",
       "    </tr>\n",
       "    <tr>\n",
       "      <th>36860</th>\n",
       "      <td>The Americas</td>\n",
       "      <td>Rescuing Salvadoran Democracy</td>\n",
       "      <td>7.790649e-08</td>\n",
       "      <td>29-jul-2012</td>\n",
       "    </tr>\n",
       "    <tr>\n",
       "      <th>56403</th>\n",
       "      <td>Asia</td>\n",
       "      <td>Asean Pursues Framework for Addressing Sea Dis...</td>\n",
       "      <td>1.010866e-04</td>\n",
       "      <td>18-nov-2012</td>\n",
       "    </tr>\n",
       "    <tr>\n",
       "      <th>34214</th>\n",
       "      <td>Region</td>\n",
       "      <td>Delta Flight to Madrid Returns to JFK After De...</td>\n",
       "      <td>2.002401e-04</td>\n",
       "      <td>13-jul-2012</td>\n",
       "    </tr>\n",
       "    <tr>\n",
       "      <th>52136</th>\n",
       "      <td>DJFX Trader</td>\n",
       "      <td>Canadian Dollar Gives Back Gains</td>\n",
       "      <td>4.195679e-04</td>\n",
       "      <td>25-oct-2012</td>\n",
       "    </tr>\n",
       "  </tbody>\n",
       "</table>\n",
       "</div>"
      ],
      "text/plain": [
       "              category                                              title  \\\n",
       "31763      DJFX Trader            Rupee Takes a Toll on Foreign Companies   \n",
       "32577        Bookshelf                    How the Fittest Theory Survived   \n",
       "56901             IPOs  After Low Pricing, China's YY Gains 7.7% on Na...   \n",
       "3298       Middle East                U.S. Moves to Shut Embassy in Syria   \n",
       "14492  Political Diary                     The Real Democrats of New York   \n",
       "10423        Bookshelf                                    High And Mighty   \n",
       "36860     The Americas                      Rescuing Salvadoran Democracy   \n",
       "56403             Asia  Asean Pursues Framework for Addressing Sea Dis...   \n",
       "34214           Region  Delta Flight to Madrid Returns to JFK After De...   \n",
       "52136      DJFX Trader                   Canadian Dollar Gives Back Gains   \n",
       "\n",
       "              score   final_date  \n",
       "31763  8.901475e-04  28-jun-2012  \n",
       "32577  4.349556e-06   4-jul-2012  \n",
       "56901  4.773402e-04  21-nov-2012  \n",
       "3298   8.507683e-06  21-jan-2012  \n",
       "14492  1.212421e-03  26-mar-2012  \n",
       "10423  1.421656e-04   1-mar-2012  \n",
       "36860  7.790649e-08  29-jul-2012  \n",
       "56403  1.010866e-04  18-nov-2012  \n",
       "34214  2.002401e-04  13-jul-2012  \n",
       "52136  4.195679e-04  25-oct-2012  "
      ]
     },
     "execution_count": 258,
     "metadata": {},
     "output_type": "execute_result"
    }
   ],
   "source": [
    "news_data_final.sample(10)"
   ]
  },
  {
   "cell_type": "code",
   "execution_count": 259,
   "metadata": {
    "collapsed": true
   },
   "outputs": [],
   "source": [
    "news_data_final.to_csv(\"score.csv\")"
   ]
  }
 ],
 "metadata": {
  "kernelspec": {
   "display_name": "Python 3",
   "language": "python",
   "name": "python3"
  }
 },
 "nbformat": 4,
 "nbformat_minor": 2
}
