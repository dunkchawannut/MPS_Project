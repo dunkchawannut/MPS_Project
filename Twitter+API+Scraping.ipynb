{
 "cells": [
  {
   "cell_type": "code",
   "execution_count": 11,
   "metadata": {
    "collapsed": true
   },
   "outputs": [],
   "source": [
    "import re\n",
    "import tweepy\n",
    "from tweepy import OAuthHandler\n",
    "from textblob import TextBlob"
   ]
  },
  {
   "cell_type": "code",
   "execution_count": 12,
   "metadata": {
    "collapsed": true
   },
   "outputs": [],
   "source": [
    "import seaborn as sbn\n",
    "import matplotlib.pyplot as plt\n",
    "import numpy as np\n",
    "import pandas as pd"
   ]
  },
  {
   "cell_type": "code",
   "execution_count": 13,
   "metadata": {
    "collapsed": true
   },
   "outputs": [],
   "source": [
    "class TwitterScrapy(object):\n",
    "    # generic Twitter class for sentiment analysis\n",
    "    def __init__(self):\n",
    "        '''\n",
    "        Initialization method\n",
    "        '''\n",
    "        # keys and tokens from the twitter by Develop\n",
    "        consumer_key=\"FQ3a8h71Jq11VCjfVDQ6UYCKI\"\n",
    "        consumer_secret=\"GAzPIQ01qWu7UKsLlKY41uCRBNi3ACeeh0Lpuwe01FfMltX08G\"\n",
    "        access_token=\"971597583595528192-cDv1Fa5GxIXBxyK5HiDHbuGLGGXF4r5\"\n",
    "        access_token_secret=\"dde00dIexPjC5EaVgYw0HZeDsipvLv26S4ZPCgDL1hp9n\"\n",
    "        # attempt authentation\n",
    "        try:\n",
    "            self.auth=OAuthHandler(consumer_key, consumer_secret)\n",
    "            self.auth.set_access_token(access_token,access_token_secret)\n",
    "            self.api=tweepy.API(self.auth) \n",
    "        except:\n",
    "            print (\"Error:Authentation Failed\")    \n",
    "    def clean_tweet(self,tweet):\n",
    "        return ' '.join(re.sub(\"(@[A-Za-z0-9]+)|([^0-9A-Za-z \\t])|(\\w+:\\/\\/\\S+)\",\" \",tweet).split())\n",
    "    def get_tweet_sentiment(self,tweet):\n",
    "        analysis=TextBlob(self.clean_tweet(tweet))\n",
    "        # set sentiment\n",
    "        if analysis.sentiment.polarity>0:\n",
    "            return 'positive'\n",
    "        elif analysis.sentiment.polarity==0:\n",
    "            return 'netural'\n",
    "        else:\n",
    "            return 'negative'\n",
    "    def get_tweets(self,query,count=10):\n",
    "        # create an empty list to store parsed tweets\n",
    "        tweets=[]        \n",
    "        try:\n",
    "        # call api to fetch tweets\n",
    "            fetched_tweets=self.api.search(q=query,count=count)\n",
    "        # use for loop to parse tweets one by one\n",
    "            for tweet in fetched_tweets:\n",
    "                parsed_tweet={}\n",
    "                parsed_tweet['text']=tweet.text\n",
    "                parsed_tweet['sentiment']=self.get_tweet_sentiment(tweet.text)\n",
    "                if tweet.retweet_count>0:\n",
    "                    if parsed_tweet not in tweets:\n",
    "                        tweets.append(parsed_tweet)\n",
    "                else:\n",
    "                    tweets.append(parsed_tweet)\n",
    "            return tweets\n",
    "        except tweepy.TweepError as e:\n",
    "            print(\"Error:\"+str(e))"
   ]
  },
  {
   "cell_type": "code",
   "execution_count": 14,
   "metadata": {},
   "outputs": [
    {
     "name": "stdout",
     "output_type": "stream",
     "text": [
      "12\n",
      "3\n",
      "47\n",
      "The positive tweet percentage towards S&P 500 is 0.26\n",
      "The negative tweet percentage towards S&P 500 is 0.06\n"
     ]
    }
   ],
   "source": [
    "api=TwitterScrapy()\n",
    "# call function to get tweets \n",
    "tweets=api.get_tweets(query=\"S&P 500\",count=10000)\n",
    "# create a list to restore the positive\n",
    "ptweets=[tweet for tweet in tweets if tweet['sentiment']=='positive']\n",
    "ntweets=[tweet for tweet in tweets if tweet['sentiment']=='negative']\n",
    "ppercent=len(ptweets)/len(tweets)\n",
    "npercent=len(ntweets)/len(tweets)\n",
    "print(len(ptweets))\n",
    "print(len(ntweets))\n",
    "print(len(tweets))\n",
    "print (\"The positive tweet percentage towards S&P 500 is\"+\" \"+str(round(ppercent,2)))\n",
    "print (\"The negative tweet percentage towards S&P 500 is\"+\" \"+str(round(npercent,2)))"
   ]
  },
  {
   "cell_type": "code",
   "execution_count": 17,
   "metadata": {},
   "outputs": [
    {
     "data": {
      "image/png": "[encoded data removed]",
      "text/plain": [
       "<matplotlib.figure.Figure at 0x115beef98>"
      ]
     },
     "metadata": {},
     "output_type": "display_data"
    }
   ],
   "source": [
    "d = {'emotionvalence': ['positive', 'negative','netural'], 'count': [12, 32, 3]}\n",
    "df=pd.DataFrame(d)\n",
    "ax = sbn.barplot(x=\"emotionvalence\", y=\"count\", data=df)\n",
    "plt.show()"
   ]
  },
  {
   "cell_type": "code",
   "execution_count": 18,
   "metadata": {},
   "outputs": [
    {
     "name": "stdout",
     "output_type": "stream",
     "text": [
      "RT @mebi31: A show that brings my always busy family together 4 dinner at 10 #Ishqbaaaz. A big congo to the whole whole team on completing…\n",
      "RT @Redpill_Awakens: This was one of Q';s original posts.\n",
      "This spells out that the Marine Corps will be used in unison with the National Gu…\n",
      "'S&amp;P 500 Edges Higher After Trump Nomination.\n"
     ]
    }
   ],
   "source": [
    "for tweet in ptweets[:3]:\n",
    "    print (tweet['text'])"
   ]
  },
  {
   "cell_type": "code",
   "execution_count": 19,
   "metadata": {},
   "outputs": [
    {
     "name": "stdout",
     "output_type": "stream",
     "text": [
      "@helocruz @hbredda @marcus_steffen Talvez isso ocorra mais nos mercados maduros. Nos EUA, com certeza. Small Cap 60… https://t.co/69qwaOWZSU\n",
      "500!!! It’s not much, but we did it the ol’ fashioned way. (Sorry 🤖s) #thankYOU fam! @ Denver,… https://t.co/B1UWEOxwZa\n",
      "SATURDAY MARCH 24 it’s going down again #snapchatsaturdays at knockouts404 THIS TIME WITH A $500… https://t.co/70kAVLzXpK\n"
     ]
    }
   ],
   "source": [
    "for tweet in ntweets[:3]:\n",
    "    print (tweet['text'])"
   ]
  },
  {
   "cell_type": "code",
   "execution_count": 20,
   "metadata": {},
   "outputs": [
    {
     "name": "stdout",
     "output_type": "stream",
     "text": [
      "19\n",
      "8\n",
      "52\n",
      "The positive tweet percentage towards stock is 0.37\n",
      "The negative tweet percentage towards stock is 0.15\n"
     ]
    }
   ],
   "source": [
    "api=TwitterScrapy()\n",
    "# call function to get tweets \n",
    "tweets=api.get_tweets(query=\"stock\",count=10000)\n",
    "# create a list to restore the positive\n",
    "ptweets=[tweet for tweet in tweets if tweet['sentiment']=='positive']\n",
    "ntweets=[tweet for tweet in tweets if tweet['sentiment']=='negative']\n",
    "ppercent=len(ptweets)/len(tweets)\n",
    "npercent=len(ntweets)/len(tweets)\n",
    "print(len(ptweets))\n",
    "print(len(ntweets))\n",
    "print(len(tweets))\n",
    "print (\"The positive tweet percentage towards stock is\"+\" \"+str(round(ppercent,2)))\n",
    "print (\"The negative tweet percentage towards stock is\"+\" \"+str(round(npercent,2)))"
   ]
  },
  {
   "cell_type": "code",
   "execution_count": 21,
   "metadata": {},
   "outputs": [
    {
     "data": {
      "image/png": "[encoded data removed]",
      "text/plain": [
       "<matplotlib.figure.Figure at 0x115cdfe10>"
      ]
     },
     "metadata": {},
     "output_type": "display_data"
    }
   ],
   "source": [
    "d = {'emotionvalence': ['positive', 'negative','netural'], 'count': [19, 25, 8]}\n",
    "df=pd.DataFrame(d)\n",
    "ax = sbn.barplot(x=\"emotionvalence\", y=\"count\", data=df)\n",
    "plt.show()"
   ]
  },
  {
   "cell_type": "code",
   "execution_count": 22,
   "metadata": {},
   "outputs": [
    {
     "name": "stdout",
     "output_type": "stream",
     "text": [
      "RT @AsteadWesley: Wow: \"Paul Ryan, Mitt Romney’s vice-presidential running mate, sold stock in US banks on the same day he attended a confi…\n",
      "Idea for original movie scene: \n",
      "\n",
      "Char #1 is firing a gun/bow at target while talking to Char #2\n",
      "\n",
      "Char #1 keeps miss… https://t.co/vwlDHFYT7V\n",
      "RT @AFP: There has been no public North Korean response to President Trump in the nearly two weeks since he stunned the world by agreeing t…\n"
     ]
    }
   ],
   "source": [
    "for tweet in ptweets[:3]:\n",
    "    print (tweet['text'])"
   ]
  },
  {
   "cell_type": "code",
   "execution_count": 23,
   "metadata": {},
   "outputs": [
    {
     "name": "stdout",
     "output_type": "stream",
     "text": [
      "Stock Market Talkz • Re: Weekly Change in Foreign Shareholdings of Selected Counters https://t.co/xj6ukPLTYJ\n",
      "RT @mitchellvii: We were warned that the Trump tariffs would collapse the stock market. Still waiting on that along with all the other lies…\n",
      "Sad that I couldn’t use my extra 10% off in store only coupon at @SportChek this weekend since all stores around me… https://t.co/SgTIQeJimc\n"
     ]
    }
   ],
   "source": [
    "for tweet in ntweets[:3]:\n",
    "    print (tweet['text'])"
   ]
  },
  {
   "cell_type": "code",
   "execution_count": null,
   "metadata": {
    "collapsed": true
   },
   "outputs": [],
   "source": []
  }
 ],
 "metadata": {
  "kernelspec": {
   "display_name": "Python 3",
   "language": "python",
   "name": "python3"
  },
  "language_info": {
   "codemirror_mode": {
    "name": "ipython",
    "version": 3
   },
   "file_extension": ".py",
   "mimetype": "text/x-python",
   "name": "python",
   "nbconvert_exporter": "python",
   "pygments_lexer": "ipython3",
   "version": "3.6.1"
  }
 },
 "nbformat": 4,
 "nbformat_minor": 2
}
